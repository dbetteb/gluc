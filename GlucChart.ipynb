{
 "cells": [
  {
   "cell_type": "markdown",
   "metadata": {},
   "source": [
    "# Gluc Chart Demo"
   ]
  },
  {
   "cell_type": "code",
   "execution_count": 7,
   "metadata": {},
   "outputs": [],
   "source": [
    "from main import GlucConverter as GC"
   ]
  },
  {
   "cell_type": "code",
   "execution_count": 8,
   "metadata": {},
   "outputs": [],
   "source": [
    "gc = GC(name='toto', filename='raw_data/gluc.csv')"
   ]
  },
  {
   "cell_type": "code",
   "execution_count": 9,
   "metadata": {},
   "outputs": [
    {
     "name": "stdout",
     "output_type": "stream",
     "text": [
      "toto GlucConverter formula is 0.03484320557491289*glyc+ 1.6271777003484322\n"
     ]
    }
   ],
   "source": [
    "gc.getgluc()\n",
    "gc.getdate()\n",
    "gc.gethba1c()"
   ]
  },
  {
   "cell_type": "code",
   "execution_count": 10,
   "metadata": {},
   "outputs": [
    {
     "data": {
      "text/html": [
       "<script type=\"text/javascript\">window.PlotlyConfig = {MathJaxConfig: 'local'};</script><script type=\"text/javascript\">if (window.MathJax) {MathJax.Hub.Config({SVG: {font: \"STIX-Web\"}});}</script><script>requirejs.config({paths: { 'plotly': ['https://cdn.plot.ly/plotly-latest.min']},});if(!window._Plotly) {require(['plotly'],function(plotly) {window._Plotly=plotly;});}</script>"
      ],
      "text/vnd.plotly.v1+html": [
       "<script type=\"text/javascript\">window.PlotlyConfig = {MathJaxConfig: 'local'};</script><script type=\"text/javascript\">if (window.MathJax) {MathJax.Hub.Config({SVG: {font: \"STIX-Web\"}});}</script><script>requirejs.config({paths: { 'plotly': ['https://cdn.plot.ly/plotly-latest.min']},});if(!window._Plotly) {require(['plotly'],function(plotly) {window._Plotly=plotly;});}</script>"
      ]
     },
     "metadata": {},
     "output_type": "display_data"
    }
   ],
   "source": [
    "from plotly.offline import download_plotlyjs, init_notebook_mode, plot, iplot\n",
    "from plotly import graph_objs as go\n",
    "init_notebook_mode(True)"
   ]
  },
  {
   "cell_type": "code",
   "execution_count": 11,
   "metadata": {},
   "outputs": [],
   "source": [
    "from misc import monthdic"
   ]
  },
  {
   "cell_type": "code",
   "execution_count": 13,
   "metadata": {},
   "outputs": [
    {
     "data": {
      "application/vnd.plotly.v1+json": {
       "config": {
        "linkText": "Export to plot.ly",
        "plotlyServerURL": "https://plot.ly",
        "showLink": false
       },
       "data": [
        {
         "line": {
          "width": 12
         },
         "marker": {
          "size": 12
         },
         "name": "Glycémie moyenne",
         "type": "scatter",
         "uid": "e075cf6f-b695-41f5-be58-7a7e0bd2d9f1",
         "x": [
          "2019-02-14 23:00:00",
          "2019-02-15 23:00:00",
          "2019-02-16 23:00:00",
          "2019-02-17 23:00:00",
          "2019-02-18 23:00:00",
          "2019-02-19 23:00:00",
          "2019-02-20 23:00:00",
          "2019-02-21 23:00:00",
          "2019-02-22 23:00:00",
          "2019-02-23 23:00:00",
          "2019-02-24 23:00:00",
          "2019-02-25 23:00:00",
          "2019-02-26 23:00:00",
          "2019-02-27 23:00:00",
          "2019-02-28 23:00:00",
          "2019-03-01 23:00:00",
          "2019-03-02 23:00:00",
          "2019-03-03 23:00:00",
          "2019-03-04 23:00:00",
          "2019-03-05 23:00:00"
         ],
         "y": [
          224,
          220,
          219,
          218,
          217,
          214,
          211,
          207,
          204,
          200,
          200,
          201,
          196,
          195,
          193,
          190,
          189,
          187,
          189,
          188
         ]
        },
        {
         "line": {
          "color": "red",
          "width": 6
         },
         "marker": {
          "color": "red",
          "size": 12
         },
         "name": "HbA1C estimée",
         "type": "scatter",
         "uid": "7463b061-5d07-4bdc-bd37-ce7314da2676",
         "x": [
          "2019-02-14 23:00:00",
          "2019-02-15 23:00:00",
          "2019-02-16 23:00:00",
          "2019-02-17 23:00:00",
          "2019-02-18 23:00:00",
          "2019-02-19 23:00:00",
          "2019-02-20 23:00:00",
          "2019-02-21 23:00:00",
          "2019-02-22 23:00:00",
          "2019-02-23 23:00:00",
          "2019-02-24 23:00:00",
          "2019-02-25 23:00:00",
          "2019-02-26 23:00:00",
          "2019-02-27 23:00:00",
          "2019-02-28 23:00:00",
          "2019-03-01 23:00:00",
          "2019-03-02 23:00:00",
          "2019-03-03 23:00:00",
          "2019-03-04 23:00:00",
          "2019-03-05 23:00:00"
         ],
         "y": [
          9.43205574912892,
          9.292682926829269,
          9.257839721254356,
          9.222996515679442,
          9.188153310104529,
          9.083623693379792,
          8.979094076655052,
          8.8397212543554,
          8.735191637630662,
          8.595818815331011,
          8.595818815331011,
          8.630662020905923,
          8.456445993031359,
          8.421602787456447,
          8.351916376306619,
          8.247386759581882,
          8.212543554006968,
          8.142857142857142,
          8.212543554006968,
          8.177700348432055
         ],
         "yaxis": "y2"
        }
       ],
       "layout": {
        "title": {
         "text": "Evolution glycémie moyenne sur 30 jours"
        },
        "xaxis": {
         "ticktext": [
          "15 fév",
          "16 fév",
          "17 fév",
          "18 fév",
          "19 fév",
          "20 fév",
          "21 fév",
          "22 fév",
          "23 fév",
          "24 fév",
          "25 fév",
          "26 fév",
          "27 fév",
          "28 fév",
          "1 mars",
          "2 mars",
          "3 mars",
          "4 mars",
          "5 mars",
          "6 mars"
         ],
         "tickvals": [
          "2019-02-14 23:00:00",
          "2019-02-15 23:00:00",
          "2019-02-16 23:00:00",
          "2019-02-17 23:00:00",
          "2019-02-18 23:00:00",
          "2019-02-19 23:00:00",
          "2019-02-20 23:00:00",
          "2019-02-21 23:00:00",
          "2019-02-22 23:00:00",
          "2019-02-23 23:00:00",
          "2019-02-24 23:00:00",
          "2019-02-25 23:00:00",
          "2019-02-26 23:00:00",
          "2019-02-27 23:00:00",
          "2019-02-28 23:00:00",
          "2019-03-01 23:00:00",
          "2019-03-02 23:00:00",
          "2019-03-03 23:00:00",
          "2019-03-04 23:00:00",
          "2019-03-05 23:00:00"
         ]
        },
        "yaxis2": {
         "overlaying": "y",
         "showgrid": false,
         "side": "right"
        }
       }
      },
      "text/html": [
       "<div id=\"bd37d432-6ef6-4fe6-882f-5626ec245f5b\" style=\"height: 525px; width: 100%;\" class=\"plotly-graph-div\"></div><script type=\"text/javascript\">require([\"plotly\"], function(Plotly) { window.PLOTLYENV=window.PLOTLYENV || {};window.PLOTLYENV.BASE_URL=\"https://plot.ly\";Plotly.newPlot(\"bd37d432-6ef6-4fe6-882f-5626ec245f5b\", [{\"line\": {\"width\": 12}, \"marker\": {\"size\": 12}, \"name\": \"Glyc\\u00e9mie moyenne\", \"x\": [\"2019-02-14 23:00:00\", \"2019-02-15 23:00:00\", \"2019-02-16 23:00:00\", \"2019-02-17 23:00:00\", \"2019-02-18 23:00:00\", \"2019-02-19 23:00:00\", \"2019-02-20 23:00:00\", \"2019-02-21 23:00:00\", \"2019-02-22 23:00:00\", \"2019-02-23 23:00:00\", \"2019-02-24 23:00:00\", \"2019-02-25 23:00:00\", \"2019-02-26 23:00:00\", \"2019-02-27 23:00:00\", \"2019-02-28 23:00:00\", \"2019-03-01 23:00:00\", \"2019-03-02 23:00:00\", \"2019-03-03 23:00:00\", \"2019-03-04 23:00:00\", \"2019-03-05 23:00:00\"], \"y\": [224, 220, 219, 218, 217, 214, 211, 207, 204, 200, 200, 201, 196, 195, 193, 190, 189, 187, 189, 188], \"type\": \"scatter\", \"uid\": \"e075cf6f-b695-41f5-be58-7a7e0bd2d9f1\"}, {\"line\": {\"color\": \"red\", \"width\": 6}, \"marker\": {\"color\": \"red\", \"size\": 12}, \"name\": \"HbA1C estim\\u00e9e\", \"x\": [\"2019-02-14 23:00:00\", \"2019-02-15 23:00:00\", \"2019-02-16 23:00:00\", \"2019-02-17 23:00:00\", \"2019-02-18 23:00:00\", \"2019-02-19 23:00:00\", \"2019-02-20 23:00:00\", \"2019-02-21 23:00:00\", \"2019-02-22 23:00:00\", \"2019-02-23 23:00:00\", \"2019-02-24 23:00:00\", \"2019-02-25 23:00:00\", \"2019-02-26 23:00:00\", \"2019-02-27 23:00:00\", \"2019-02-28 23:00:00\", \"2019-03-01 23:00:00\", \"2019-03-02 23:00:00\", \"2019-03-03 23:00:00\", \"2019-03-04 23:00:00\", \"2019-03-05 23:00:00\"], \"y\": [9.43205574912892, 9.292682926829269, 9.257839721254356, 9.222996515679442, 9.188153310104529, 9.083623693379792, 8.979094076655052, 8.8397212543554, 8.735191637630662, 8.595818815331011, 8.595818815331011, 8.630662020905923, 8.456445993031359, 8.421602787456447, 8.351916376306619, 8.247386759581882, 8.212543554006968, 8.142857142857142, 8.212543554006968, 8.177700348432055], \"yaxis\": \"y2\", \"type\": \"scatter\", \"uid\": \"7463b061-5d07-4bdc-bd37-ce7314da2676\"}], {\"title\": {\"text\": \"Evolution glyc\\u00e9mie moyenne sur 30 jours\"}, \"xaxis\": {\"ticktext\": [\"15 f\\u00e9v\", \"16 f\\u00e9v\", \"17 f\\u00e9v\", \"18 f\\u00e9v\", \"19 f\\u00e9v\", \"20 f\\u00e9v\", \"21 f\\u00e9v\", \"22 f\\u00e9v\", \"23 f\\u00e9v\", \"24 f\\u00e9v\", \"25 f\\u00e9v\", \"26 f\\u00e9v\", \"27 f\\u00e9v\", \"28 f\\u00e9v\", \"1 mars\", \"2 mars\", \"3 mars\", \"4 mars\", \"5 mars\", \"6 mars\"], \"tickvals\": [\"2019-02-14 23:00:00\", \"2019-02-15 23:00:00\", \"2019-02-16 23:00:00\", \"2019-02-17 23:00:00\", \"2019-02-18 23:00:00\", \"2019-02-19 23:00:00\", \"2019-02-20 23:00:00\", \"2019-02-21 23:00:00\", \"2019-02-22 23:00:00\", \"2019-02-23 23:00:00\", \"2019-02-24 23:00:00\", \"2019-02-25 23:00:00\", \"2019-02-26 23:00:00\", \"2019-02-27 23:00:00\", \"2019-02-28 23:00:00\", \"2019-03-01 23:00:00\", \"2019-03-02 23:00:00\", \"2019-03-03 23:00:00\", \"2019-03-04 23:00:00\", \"2019-03-05 23:00:00\"]}, \"yaxis2\": {\"overlaying\": \"y\", \"showgrid\": false, \"side\": \"right\"}}, {\"showLink\": false, \"linkText\": \"Export to plot.ly\", \"plotlyServerURL\": \"https://plot.ly\"})});</script><script type=\"text/javascript\">window.addEventListener(\"resize\", function(){window._Plotly.Plots.resize(document.getElementById(\"bd37d432-6ef6-4fe6-882f-5626ec245f5b\"));});</script>"
      ],
      "text/vnd.plotly.v1+html": [
       "<div id=\"bd37d432-6ef6-4fe6-882f-5626ec245f5b\" style=\"height: 525px; width: 100%;\" class=\"plotly-graph-div\"></div><script type=\"text/javascript\">require([\"plotly\"], function(Plotly) { window.PLOTLYENV=window.PLOTLYENV || {};window.PLOTLYENV.BASE_URL=\"https://plot.ly\";Plotly.newPlot(\"bd37d432-6ef6-4fe6-882f-5626ec245f5b\", [{\"line\": {\"width\": 12}, \"marker\": {\"size\": 12}, \"name\": \"Glyc\\u00e9mie moyenne\", \"x\": [\"2019-02-14 23:00:00\", \"2019-02-15 23:00:00\", \"2019-02-16 23:00:00\", \"2019-02-17 23:00:00\", \"2019-02-18 23:00:00\", \"2019-02-19 23:00:00\", \"2019-02-20 23:00:00\", \"2019-02-21 23:00:00\", \"2019-02-22 23:00:00\", \"2019-02-23 23:00:00\", \"2019-02-24 23:00:00\", \"2019-02-25 23:00:00\", \"2019-02-26 23:00:00\", \"2019-02-27 23:00:00\", \"2019-02-28 23:00:00\", \"2019-03-01 23:00:00\", \"2019-03-02 23:00:00\", \"2019-03-03 23:00:00\", \"2019-03-04 23:00:00\", \"2019-03-05 23:00:00\"], \"y\": [224, 220, 219, 218, 217, 214, 211, 207, 204, 200, 200, 201, 196, 195, 193, 190, 189, 187, 189, 188], \"type\": \"scatter\", \"uid\": \"e075cf6f-b695-41f5-be58-7a7e0bd2d9f1\"}, {\"line\": {\"color\": \"red\", \"width\": 6}, \"marker\": {\"color\": \"red\", \"size\": 12}, \"name\": \"HbA1C estim\\u00e9e\", \"x\": [\"2019-02-14 23:00:00\", \"2019-02-15 23:00:00\", \"2019-02-16 23:00:00\", \"2019-02-17 23:00:00\", \"2019-02-18 23:00:00\", \"2019-02-19 23:00:00\", \"2019-02-20 23:00:00\", \"2019-02-21 23:00:00\", \"2019-02-22 23:00:00\", \"2019-02-23 23:00:00\", \"2019-02-24 23:00:00\", \"2019-02-25 23:00:00\", \"2019-02-26 23:00:00\", \"2019-02-27 23:00:00\", \"2019-02-28 23:00:00\", \"2019-03-01 23:00:00\", \"2019-03-02 23:00:00\", \"2019-03-03 23:00:00\", \"2019-03-04 23:00:00\", \"2019-03-05 23:00:00\"], \"y\": [9.43205574912892, 9.292682926829269, 9.257839721254356, 9.222996515679442, 9.188153310104529, 9.083623693379792, 8.979094076655052, 8.8397212543554, 8.735191637630662, 8.595818815331011, 8.595818815331011, 8.630662020905923, 8.456445993031359, 8.421602787456447, 8.351916376306619, 8.247386759581882, 8.212543554006968, 8.142857142857142, 8.212543554006968, 8.177700348432055], \"yaxis\": \"y2\", \"type\": \"scatter\", \"uid\": \"7463b061-5d07-4bdc-bd37-ce7314da2676\"}], {\"title\": {\"text\": \"Evolution glyc\\u00e9mie moyenne sur 30 jours\"}, \"xaxis\": {\"ticktext\": [\"15 f\\u00e9v\", \"16 f\\u00e9v\", \"17 f\\u00e9v\", \"18 f\\u00e9v\", \"19 f\\u00e9v\", \"20 f\\u00e9v\", \"21 f\\u00e9v\", \"22 f\\u00e9v\", \"23 f\\u00e9v\", \"24 f\\u00e9v\", \"25 f\\u00e9v\", \"26 f\\u00e9v\", \"27 f\\u00e9v\", \"28 f\\u00e9v\", \"1 mars\", \"2 mars\", \"3 mars\", \"4 mars\", \"5 mars\", \"6 mars\"], \"tickvals\": [\"2019-02-14 23:00:00\", \"2019-02-15 23:00:00\", \"2019-02-16 23:00:00\", \"2019-02-17 23:00:00\", \"2019-02-18 23:00:00\", \"2019-02-19 23:00:00\", \"2019-02-20 23:00:00\", \"2019-02-21 23:00:00\", \"2019-02-22 23:00:00\", \"2019-02-23 23:00:00\", \"2019-02-24 23:00:00\", \"2019-02-25 23:00:00\", \"2019-02-26 23:00:00\", \"2019-02-27 23:00:00\", \"2019-02-28 23:00:00\", \"2019-03-01 23:00:00\", \"2019-03-02 23:00:00\", \"2019-03-03 23:00:00\", \"2019-03-04 23:00:00\", \"2019-03-05 23:00:00\"]}, \"yaxis2\": {\"overlaying\": \"y\", \"showgrid\": false, \"side\": \"right\"}}, {\"showLink\": false, \"linkText\": \"Export to plot.ly\", \"plotlyServerURL\": \"https://plot.ly\"})});</script><script type=\"text/javascript\">window.addEventListener(\"resize\", function(){window._Plotly.Plots.resize(document.getElementById(\"bd37d432-6ef6-4fe6-882f-5626ec245f5b\"));});</script>"
      ]
     },
     "metadata": {},
     "output_type": "display_data"
    }
   ],
   "source": [
    "labels = [str(date.day)+ ' ' + monthdic[date.month] for date in gc.date]\n",
    "tickvals = gc.date\n",
    "layout = go.Layout(\n",
    "    title='Evolution glycémie moyenne sur 30 jours',\n",
    "    xaxis=go.layout.XAxis(\n",
    "        ticktext=labels,\n",
    "        tickvals=tickvals\n",
    "    ),\n",
    "    yaxis2= dict(\n",
    "        overlaying='y',\n",
    "        side='right',\n",
    "        showgrid=False,\n",
    "    )\n",
    ")\n",
    "data = [\n",
    "    go.Scatter(\n",
    "        x=gc.date, \n",
    "        y=gc.gluc,\n",
    "        name='Glycémie moyenne',\n",
    "        marker=dict(\n",
    "         size=12),\n",
    "        line=dict(\n",
    "        width=12)\n",
    "    ),\n",
    "    go.Scatter(\n",
    "        x=gc.date, \n",
    "        y=gc.hba1c,\n",
    "        name='HbA1C estimée',\n",
    "        yaxis='y2',\n",
    "        marker=dict(\n",
    "         color='red',\n",
    "         size=12),\n",
    "        line=dict(\n",
    "         color='red',    \n",
    "         width=6)\n",
    "    ),\n",
    "        \n",
    "]\n",
    "fig = go.Figure(data, layout)\n",
    "\n",
    "iplot(fig, filename='tickvals-and-ticktext')"
   ]
  },
  {
   "cell_type": "code",
   "execution_count": 2,
   "metadata": {},
   "outputs": [],
   "source": []
  },
  {
   "cell_type": "code",
   "execution_count": null,
   "metadata": {},
   "outputs": [],
   "source": []
  },
  {
   "cell_type": "code",
   "execution_count": null,
   "metadata": {},
   "outputs": [],
   "source": []
  },
  {
   "cell_type": "code",
   "execution_count": null,
   "metadata": {},
   "outputs": [],
   "source": []
  },
  {
   "cell_type": "code",
   "execution_count": null,
   "metadata": {},
   "outputs": [],
   "source": []
  },
  {
   "cell_type": "code",
   "execution_count": null,
   "metadata": {},
   "outputs": [],
   "source": [
    " "
   ]
  },
  {
   "cell_type": "code",
   "execution_count": 8,
   "metadata": {},
   "outputs": [],
   "source": []
  },
  {
   "cell_type": "code",
   "execution_count": null,
   "metadata": {},
   "outputs": [],
   "source": []
  },
  {
   "cell_type": "code",
   "execution_count": 11,
   "metadata": {},
   "outputs": [
    {
     "data": {
      "application/vnd.plotly.v1+json": {
       "config": {
        "linkText": "Export to plot.ly",
        "plotlyServerURL": "https://plot.ly",
        "showLink": false
       },
       "data": [
        {
         "line": {
          "width": 12
         },
         "marker": {
          "size": 12
         },
         "name": "Glycémie moyenne",
         "type": "scatter",
         "uid": "2d4dab36-7cd7-4978-94f3-fb269763b87e",
         "x": [
          "2019-02-14 23:00:00",
          "2019-02-15 23:00:00",
          "2019-02-16 23:00:00",
          "2019-02-17 23:00:00",
          "2019-02-18 23:00:00",
          "2019-02-19 23:00:00",
          "2019-02-20 23:00:00",
          "2019-02-21 23:00:00",
          "2019-02-22 23:00:00",
          "2019-02-23 23:00:00",
          "2019-02-24 23:00:00",
          "2019-02-25 23:00:00",
          "2019-02-26 23:00:00",
          "2019-02-27 23:00:00",
          "2019-02-28 23:00:00",
          "2019-03-01 23:00:00"
         ],
         "y": [
          224,
          220,
          219,
          218,
          217,
          214,
          211,
          207,
          204,
          200,
          200,
          201,
          196,
          195,
          193,
          190
         ]
        },
        {
         "line": {
          "color": "red",
          "width": 6
         },
         "marker": {
          "color": "red",
          "size": 12
         },
         "name": "HbA1C estimée",
         "type": "scatter",
         "uid": "23e8f993-ff07-4091-bbba-6846fd95c83b",
         "x": [
          "2019-02-14 23:00:00",
          "2019-02-15 23:00:00",
          "2019-02-16 23:00:00",
          "2019-02-17 23:00:00",
          "2019-02-18 23:00:00",
          "2019-02-19 23:00:00",
          "2019-02-20 23:00:00",
          "2019-02-21 23:00:00",
          "2019-02-22 23:00:00",
          "2019-02-23 23:00:00",
          "2019-02-24 23:00:00",
          "2019-02-25 23:00:00",
          "2019-02-26 23:00:00",
          "2019-02-27 23:00:00",
          "2019-02-28 23:00:00",
          "2019-03-01 23:00:00"
         ],
         "y": [
          9.43205574912892,
          9.292682926829269,
          9.257839721254356,
          9.222996515679442,
          9.188153310104529,
          9.083623693379792,
          8.979094076655052,
          8.8397212543554,
          8.735191637630662,
          8.595818815331011,
          8.595818815331011,
          8.630662020905923,
          8.456445993031359,
          8.421602787456447,
          8.351916376306619,
          8.247386759581882
         ],
         "yaxis": "y2"
        }
       ],
       "layout": {
        "title": {
         "text": "Evolution glycémie moyenne sur 30 jours"
        },
        "xaxis": {
         "ticktext": [
          "15 fev",
          "16 fev",
          "17 fev",
          "18 fev",
          "19 fev",
          "20 fev",
          "21 fev",
          "22 fev",
          "23 fev",
          "24 fev",
          "25 fev",
          "26 fev",
          "27 fev",
          "28 fev",
          "1 mars",
          "2 mars"
         ],
         "tickvals": [
          "2019-02-14 23:00:00",
          "2019-02-15 23:00:00",
          "2019-02-16 23:00:00",
          "2019-02-17 23:00:00",
          "2019-02-18 23:00:00",
          "2019-02-19 23:00:00",
          "2019-02-20 23:00:00",
          "2019-02-21 23:00:00",
          "2019-02-22 23:00:00",
          "2019-02-23 23:00:00",
          "2019-02-24 23:00:00",
          "2019-02-25 23:00:00",
          "2019-02-26 23:00:00",
          "2019-02-27 23:00:00",
          "2019-02-28 23:00:00",
          "2019-03-01 23:00:00"
         ]
        },
        "yaxis2": {
         "overlaying": "y",
         "showgrid": false,
         "side": "right"
        }
       }
      },
      "text/html": [
       "<div id=\"c11d0643-d897-49ca-8d04-dcd6c4f8de1a\" style=\"height: 525px; width: 100%;\" class=\"plotly-graph-div\"></div><script type=\"text/javascript\">require([\"plotly\"], function(Plotly) { window.PLOTLYENV=window.PLOTLYENV || {};window.PLOTLYENV.BASE_URL=\"https://plot.ly\";Plotly.newPlot(\"c11d0643-d897-49ca-8d04-dcd6c4f8de1a\", [{\"line\": {\"width\": 12}, \"marker\": {\"size\": 12}, \"name\": \"Glyc\\u00e9mie moyenne\", \"x\": [\"2019-02-14 23:00:00\", \"2019-02-15 23:00:00\", \"2019-02-16 23:00:00\", \"2019-02-17 23:00:00\", \"2019-02-18 23:00:00\", \"2019-02-19 23:00:00\", \"2019-02-20 23:00:00\", \"2019-02-21 23:00:00\", \"2019-02-22 23:00:00\", \"2019-02-23 23:00:00\", \"2019-02-24 23:00:00\", \"2019-02-25 23:00:00\", \"2019-02-26 23:00:00\", \"2019-02-27 23:00:00\", \"2019-02-28 23:00:00\", \"2019-03-01 23:00:00\"], \"y\": [224, 220, 219, 218, 217, 214, 211, 207, 204, 200, 200, 201, 196, 195, 193, 190], \"type\": \"scatter\", \"uid\": \"2d4dab36-7cd7-4978-94f3-fb269763b87e\"}, {\"line\": {\"color\": \"red\", \"width\": 6}, \"marker\": {\"color\": \"red\", \"size\": 12}, \"name\": \"HbA1C estim\\u00e9e\", \"x\": [\"2019-02-14 23:00:00\", \"2019-02-15 23:00:00\", \"2019-02-16 23:00:00\", \"2019-02-17 23:00:00\", \"2019-02-18 23:00:00\", \"2019-02-19 23:00:00\", \"2019-02-20 23:00:00\", \"2019-02-21 23:00:00\", \"2019-02-22 23:00:00\", \"2019-02-23 23:00:00\", \"2019-02-24 23:00:00\", \"2019-02-25 23:00:00\", \"2019-02-26 23:00:00\", \"2019-02-27 23:00:00\", \"2019-02-28 23:00:00\", \"2019-03-01 23:00:00\"], \"y\": [9.43205574912892, 9.292682926829269, 9.257839721254356, 9.222996515679442, 9.188153310104529, 9.083623693379792, 8.979094076655052, 8.8397212543554, 8.735191637630662, 8.595818815331011, 8.595818815331011, 8.630662020905923, 8.456445993031359, 8.421602787456447, 8.351916376306619, 8.247386759581882], \"yaxis\": \"y2\", \"type\": \"scatter\", \"uid\": \"23e8f993-ff07-4091-bbba-6846fd95c83b\"}], {\"title\": {\"text\": \"Evolution glyc\\u00e9mie moyenne sur 30 jours\"}, \"xaxis\": {\"ticktext\": [\"15 fev\", \"16 fev\", \"17 fev\", \"18 fev\", \"19 fev\", \"20 fev\", \"21 fev\", \"22 fev\", \"23 fev\", \"24 fev\", \"25 fev\", \"26 fev\", \"27 fev\", \"28 fev\", \"1 mars\", \"2 mars\"], \"tickvals\": [\"2019-02-14 23:00:00\", \"2019-02-15 23:00:00\", \"2019-02-16 23:00:00\", \"2019-02-17 23:00:00\", \"2019-02-18 23:00:00\", \"2019-02-19 23:00:00\", \"2019-02-20 23:00:00\", \"2019-02-21 23:00:00\", \"2019-02-22 23:00:00\", \"2019-02-23 23:00:00\", \"2019-02-24 23:00:00\", \"2019-02-25 23:00:00\", \"2019-02-26 23:00:00\", \"2019-02-27 23:00:00\", \"2019-02-28 23:00:00\", \"2019-03-01 23:00:00\"]}, \"yaxis2\": {\"overlaying\": \"y\", \"showgrid\": false, \"side\": \"right\"}}, {\"showLink\": false, \"linkText\": \"Export to plot.ly\", \"plotlyServerURL\": \"https://plot.ly\"})});</script><script type=\"text/javascript\">window.addEventListener(\"resize\", function(){window._Plotly.Plots.resize(document.getElementById(\"c11d0643-d897-49ca-8d04-dcd6c4f8de1a\"));});</script>"
      ],
      "text/vnd.plotly.v1+html": [
       "<div id=\"c11d0643-d897-49ca-8d04-dcd6c4f8de1a\" style=\"height: 525px; width: 100%;\" class=\"plotly-graph-div\"></div><script type=\"text/javascript\">require([\"plotly\"], function(Plotly) { window.PLOTLYENV=window.PLOTLYENV || {};window.PLOTLYENV.BASE_URL=\"https://plot.ly\";Plotly.newPlot(\"c11d0643-d897-49ca-8d04-dcd6c4f8de1a\", [{\"line\": {\"width\": 12}, \"marker\": {\"size\": 12}, \"name\": \"Glyc\\u00e9mie moyenne\", \"x\": [\"2019-02-14 23:00:00\", \"2019-02-15 23:00:00\", \"2019-02-16 23:00:00\", \"2019-02-17 23:00:00\", \"2019-02-18 23:00:00\", \"2019-02-19 23:00:00\", \"2019-02-20 23:00:00\", \"2019-02-21 23:00:00\", \"2019-02-22 23:00:00\", \"2019-02-23 23:00:00\", \"2019-02-24 23:00:00\", \"2019-02-25 23:00:00\", \"2019-02-26 23:00:00\", \"2019-02-27 23:00:00\", \"2019-02-28 23:00:00\", \"2019-03-01 23:00:00\"], \"y\": [224, 220, 219, 218, 217, 214, 211, 207, 204, 200, 200, 201, 196, 195, 193, 190], \"type\": \"scatter\", \"uid\": \"2d4dab36-7cd7-4978-94f3-fb269763b87e\"}, {\"line\": {\"color\": \"red\", \"width\": 6}, \"marker\": {\"color\": \"red\", \"size\": 12}, \"name\": \"HbA1C estim\\u00e9e\", \"x\": [\"2019-02-14 23:00:00\", \"2019-02-15 23:00:00\", \"2019-02-16 23:00:00\", \"2019-02-17 23:00:00\", \"2019-02-18 23:00:00\", \"2019-02-19 23:00:00\", \"2019-02-20 23:00:00\", \"2019-02-21 23:00:00\", \"2019-02-22 23:00:00\", \"2019-02-23 23:00:00\", \"2019-02-24 23:00:00\", \"2019-02-25 23:00:00\", \"2019-02-26 23:00:00\", \"2019-02-27 23:00:00\", \"2019-02-28 23:00:00\", \"2019-03-01 23:00:00\"], \"y\": [9.43205574912892, 9.292682926829269, 9.257839721254356, 9.222996515679442, 9.188153310104529, 9.083623693379792, 8.979094076655052, 8.8397212543554, 8.735191637630662, 8.595818815331011, 8.595818815331011, 8.630662020905923, 8.456445993031359, 8.421602787456447, 8.351916376306619, 8.247386759581882], \"yaxis\": \"y2\", \"type\": \"scatter\", \"uid\": \"23e8f993-ff07-4091-bbba-6846fd95c83b\"}], {\"title\": {\"text\": \"Evolution glyc\\u00e9mie moyenne sur 30 jours\"}, \"xaxis\": {\"ticktext\": [\"15 fev\", \"16 fev\", \"17 fev\", \"18 fev\", \"19 fev\", \"20 fev\", \"21 fev\", \"22 fev\", \"23 fev\", \"24 fev\", \"25 fev\", \"26 fev\", \"27 fev\", \"28 fev\", \"1 mars\", \"2 mars\"], \"tickvals\": [\"2019-02-14 23:00:00\", \"2019-02-15 23:00:00\", \"2019-02-16 23:00:00\", \"2019-02-17 23:00:00\", \"2019-02-18 23:00:00\", \"2019-02-19 23:00:00\", \"2019-02-20 23:00:00\", \"2019-02-21 23:00:00\", \"2019-02-22 23:00:00\", \"2019-02-23 23:00:00\", \"2019-02-24 23:00:00\", \"2019-02-25 23:00:00\", \"2019-02-26 23:00:00\", \"2019-02-27 23:00:00\", \"2019-02-28 23:00:00\", \"2019-03-01 23:00:00\"]}, \"yaxis2\": {\"overlaying\": \"y\", \"showgrid\": false, \"side\": \"right\"}}, {\"showLink\": false, \"linkText\": \"Export to plot.ly\", \"plotlyServerURL\": \"https://plot.ly\"})});</script><script type=\"text/javascript\">window.addEventListener(\"resize\", function(){window._Plotly.Plots.resize(document.getElementById(\"c11d0643-d897-49ca-8d04-dcd6c4f8de1a\"));});</script>"
      ]
     },
     "metadata": {},
     "output_type": "display_data"
    }
   ],
   "source": [
    "labels = [str(date.day)+ ' ' + monthd[date.month] for date in gc.date]\n",
    "tickvals = gc.date\n",
    "layout = go.Layout(\n",
    "    title='Evolution glycémie moyenne sur 30 jours',\n",
    "    xaxis=go.layout.XAxis(\n",
    "        ticktext=labels,\n",
    "        tickvals=tickvals\n",
    "    ),\n",
    "    yaxis2= dict(\n",
    "        overlaying='y',\n",
    "        side='right',\n",
    "        showgrid=False,\n",
    "    )\n",
    ")\n",
    "data = [\n",
    "    go.Scatter(\n",
    "        x=gc.date, \n",
    "        y=gc.gluc,\n",
    "        name='Glycémie moyenne',\n",
    "        marker=dict(\n",
    "         size=12),\n",
    "        line=dict(\n",
    "        width=12)\n",
    "    ),\n",
    "    go.Scatter(\n",
    "        x=gc.date, \n",
    "        y=gc.hba1c,\n",
    "        name='HbA1C estimée',\n",
    "        yaxis='y2',\n",
    "        marker=dict(\n",
    "         color='red',\n",
    "         size=12),\n",
    "        line=dict(\n",
    "         color='red',    \n",
    "         width=6)\n",
    "    ),\n",
    "        \n",
    "]\n",
    "fig = go.Figure(data, layout)\n",
    "\n",
    "iplot(fig, filename='tickvals-and-ticktext')"
   ]
  },
  {
   "cell_type": "code",
   "execution_count": 24,
   "metadata": {},
   "outputs": [],
   "source": [
    "hb = (gc.gluc+46.7)/28.7"
   ]
  },
  {
   "cell_type": "code",
   "execution_count": null,
   "metadata": {},
   "outputs": [],
   "source": []
  }
 ],
 "metadata": {
  "kernelspec": {
   "display_name": "Python 3",
   "language": "python",
   "name": "python3"
  }
 },
 "nbformat": 4,
 "nbformat_minor": 2
}
