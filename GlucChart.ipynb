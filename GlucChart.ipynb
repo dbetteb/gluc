{
 "cells": [
  {
   "cell_type": "markdown",
   "metadata": {},
   "source": [
    "# Gluc Chart Demo"
   ]
  },
  {
   "cell_type": "code",
   "execution_count": 8,
   "metadata": {},
   "outputs": [],
   "source": [
    "from main import GlucConverter as GC"
   ]
  },
  {
   "cell_type": "code",
   "execution_count": 9,
   "metadata": {},
   "outputs": [],
   "source": [
    "gc = GC(name='toto', filename='raw_data/gluc.csv')"
   ]
  },
  {
   "cell_type": "code",
   "execution_count": 10,
   "metadata": {},
   "outputs": [],
   "source": [
    "gc.getgluc()"
   ]
  },
  {
   "cell_type": "code",
   "execution_count": 4,
   "metadata": {},
   "outputs": [
    {
     "data": {
      "text/html": [
       "<script type=\"text/javascript\">window.PlotlyConfig = {MathJaxConfig: 'local'};</script><script type=\"text/javascript\">if (window.MathJax) {MathJax.Hub.Config({SVG: {font: \"STIX-Web\"}});}</script><script>requirejs.config({paths: { 'plotly': ['https://cdn.plot.ly/plotly-latest.min']},});if(!window._Plotly) {require(['plotly'],function(plotly) {window._Plotly=plotly;});}</script>"
      ],
      "text/vnd.plotly.v1+html": [
       "<script type=\"text/javascript\">window.PlotlyConfig = {MathJaxConfig: 'local'};</script><script type=\"text/javascript\">if (window.MathJax) {MathJax.Hub.Config({SVG: {font: \"STIX-Web\"}});}</script><script>requirejs.config({paths: { 'plotly': ['https://cdn.plot.ly/plotly-latest.min']},});if(!window._Plotly) {require(['plotly'],function(plotly) {window._Plotly=plotly;});}</script>"
      ]
     },
     "metadata": {},
     "output_type": "display_data"
    }
   ],
   "source": [
    "from plotly.offline import download_plotlyjs, init_notebook_mode, plot, iplot\n",
    "from plotly import graph_objs as go\n",
    "init_notebook_mode(True)"
   ]
  },
  {
   "cell_type": "code",
   "execution_count": 5,
   "metadata": {},
   "outputs": [],
   "source": [
    "from misc import monthdic"
   ]
  },
  {
   "cell_type": "code",
   "execution_count": 6,
   "metadata": {},
   "outputs": [
    {
     "data": {
      "application/vnd.plotly.v1+json": {
       "config": {
        "linkText": "Export to plot.ly",
        "plotlyServerURL": "https://plot.ly",
        "showLink": false
       },
       "data": [
        {
         "line": {
          "width": 12
         },
         "marker": {
          "size": 12
         },
         "name": "Glycémie moyenne",
         "type": "scatter",
         "uid": "745894a8-30c8-492f-9363-6fa9b113fe5b",
         "x": [
          "2019-02-14 23:00:00",
          "2019-02-15 23:00:00",
          "2019-02-16 23:00:00",
          "2019-02-17 23:00:00",
          "2019-02-18 23:00:00",
          "2019-02-19 23:00:00",
          "2019-02-20 23:00:00",
          "2019-02-21 23:00:00",
          "2019-02-22 23:00:00",
          "2019-02-23 23:00:00",
          "2019-02-24 23:00:00",
          "2019-02-25 23:00:00",
          "2019-02-26 23:00:00",
          "2019-02-27 23:00:00",
          "2019-02-28 23:00:00",
          "2019-03-01 23:00:00",
          "2019-03-02 23:00:00",
          "2019-03-03 23:00:00",
          "2019-03-04 23:00:00",
          "2019-03-05 23:00:00",
          "2019-03-06 23:00:00",
          "2019-03-07 23:00:00",
          "2019-03-08 23:00:00",
          "2019-03-09 23:00:00",
          "2019-03-10 23:00:00",
          "2019-03-11 23:00:00",
          "2019-03-12 23:00:00",
          "2019-03-13 23:00:00",
          "2019-03-14 23:00:00",
          "2019-03-15 23:00:00"
         ],
         "y": [
          224,
          220,
          219,
          218,
          217,
          214,
          211,
          207,
          204,
          200,
          200,
          201,
          196,
          195,
          193,
          190,
          189,
          187,
          189,
          188,
          186,
          186,
          185,
          181,
          180,
          178,
          174,
          171,
          169,
          166
         ]
        },
        {
         "line": {
          "color": "red",
          "width": 6
         },
         "marker": {
          "color": "red",
          "size": 12
         },
         "name": "HbA1C estimée",
         "type": "scatter",
         "uid": "b38ff96c-4f8a-4562-8538-8ec4b51a5caa",
         "x": [
          "2019-02-14 23:00:00",
          "2019-02-15 23:00:00",
          "2019-02-16 23:00:00",
          "2019-02-17 23:00:00",
          "2019-02-18 23:00:00",
          "2019-02-19 23:00:00",
          "2019-02-20 23:00:00",
          "2019-02-21 23:00:00",
          "2019-02-22 23:00:00",
          "2019-02-23 23:00:00",
          "2019-02-24 23:00:00",
          "2019-02-25 23:00:00",
          "2019-02-26 23:00:00",
          "2019-02-27 23:00:00",
          "2019-02-28 23:00:00",
          "2019-03-01 23:00:00",
          "2019-03-02 23:00:00",
          "2019-03-03 23:00:00",
          "2019-03-04 23:00:00",
          "2019-03-05 23:00:00",
          "2019-03-06 23:00:00",
          "2019-03-07 23:00:00",
          "2019-03-08 23:00:00",
          "2019-03-09 23:00:00",
          "2019-03-10 23:00:00",
          "2019-03-11 23:00:00",
          "2019-03-12 23:00:00",
          "2019-03-13 23:00:00",
          "2019-03-14 23:00:00",
          "2019-03-15 23:00:00"
         ],
         "y": [
          9.43205574912892,
          9.292682926829269,
          9.257839721254356,
          9.222996515679442,
          9.188153310104529,
          9.083623693379792,
          8.979094076655052,
          8.8397212543554,
          8.735191637630662,
          8.595818815331011,
          8.595818815331011,
          8.630662020905923,
          8.456445993031359,
          8.421602787456447,
          8.351916376306619,
          8.247386759581882,
          8.212543554006968,
          8.142857142857142,
          8.212543554006968,
          8.177700348432055,
          8.10801393728223,
          8.10801393728223,
          8.073170731707318,
          7.933797909407665,
          7.898954703832753,
          7.829268292682927,
          7.689895470383275,
          7.585365853658536,
          7.515679442508711,
          7.411149825783972
         ],
         "yaxis": "y2"
        }
       ],
       "layout": {
        "title": {
         "text": "Evolution glycémie moyenne sur 30 jours"
        },
        "xaxis": {
         "ticktext": [
          "15 fév",
          "16 fév",
          "17 fév",
          "18 fév",
          "19 fév",
          "20 fév",
          "21 fév",
          "22 fév",
          "23 fév",
          "24 fév",
          "25 fév",
          "26 fév",
          "27 fév",
          "28 fév",
          "1 mars",
          "2 mars",
          "3 mars",
          "4 mars",
          "5 mars",
          "6 mars",
          "7 mars",
          "8 mars",
          "9 mars",
          "10 mars",
          "11 mars",
          "12 mars",
          "13 mars",
          "14 mars",
          "15 mars",
          "16 mars"
         ],
         "tickvals": [
          "2019-02-14 23:00:00",
          "2019-02-15 23:00:00",
          "2019-02-16 23:00:00",
          "2019-02-17 23:00:00",
          "2019-02-18 23:00:00",
          "2019-02-19 23:00:00",
          "2019-02-20 23:00:00",
          "2019-02-21 23:00:00",
          "2019-02-22 23:00:00",
          "2019-02-23 23:00:00",
          "2019-02-24 23:00:00",
          "2019-02-25 23:00:00",
          "2019-02-26 23:00:00",
          "2019-02-27 23:00:00",
          "2019-02-28 23:00:00",
          "2019-03-01 23:00:00",
          "2019-03-02 23:00:00",
          "2019-03-03 23:00:00",
          "2019-03-04 23:00:00",
          "2019-03-05 23:00:00",
          "2019-03-06 23:00:00",
          "2019-03-07 23:00:00",
          "2019-03-08 23:00:00",
          "2019-03-09 23:00:00",
          "2019-03-10 23:00:00",
          "2019-03-11 23:00:00",
          "2019-03-12 23:00:00",
          "2019-03-13 23:00:00",
          "2019-03-14 23:00:00",
          "2019-03-15 23:00:00"
         ]
        },
        "yaxis2": {
         "overlaying": "y",
         "showgrid": false,
         "side": "right"
        }
       }
      },
      "text/html": [
       "<div id=\"67a1d43a-f104-449a-80c9-581ba3757c76\" style=\"height: 525px; width: 100%;\" class=\"plotly-graph-div\"></div><script type=\"text/javascript\">require([\"plotly\"], function(Plotly) { window.PLOTLYENV=window.PLOTLYENV || {};window.PLOTLYENV.BASE_URL=\"https://plot.ly\";\n",
       "if (document.getElementById(\"67a1d43a-f104-449a-80c9-581ba3757c76\")) {\n",
       "    Plotly.newPlot(\"67a1d43a-f104-449a-80c9-581ba3757c76\", [{\"line\": {\"width\": 12}, \"marker\": {\"size\": 12}, \"name\": \"Glyc\\u00e9mie moyenne\", \"x\": [\"2019-02-14 23:00:00\", \"2019-02-15 23:00:00\", \"2019-02-16 23:00:00\", \"2019-02-17 23:00:00\", \"2019-02-18 23:00:00\", \"2019-02-19 23:00:00\", \"2019-02-20 23:00:00\", \"2019-02-21 23:00:00\", \"2019-02-22 23:00:00\", \"2019-02-23 23:00:00\", \"2019-02-24 23:00:00\", \"2019-02-25 23:00:00\", \"2019-02-26 23:00:00\", \"2019-02-27 23:00:00\", \"2019-02-28 23:00:00\", \"2019-03-01 23:00:00\", \"2019-03-02 23:00:00\", \"2019-03-03 23:00:00\", \"2019-03-04 23:00:00\", \"2019-03-05 23:00:00\", \"2019-03-06 23:00:00\", \"2019-03-07 23:00:00\", \"2019-03-08 23:00:00\", \"2019-03-09 23:00:00\", \"2019-03-10 23:00:00\", \"2019-03-11 23:00:00\", \"2019-03-12 23:00:00\", \"2019-03-13 23:00:00\", \"2019-03-14 23:00:00\", \"2019-03-15 23:00:00\"], \"y\": [224, 220, 219, 218, 217, 214, 211, 207, 204, 200, 200, 201, 196, 195, 193, 190, 189, 187, 189, 188, 186, 186, 185, 181, 180, 178, 174, 171, 169, 166], \"type\": \"scatter\", \"uid\": \"745894a8-30c8-492f-9363-6fa9b113fe5b\"}, {\"line\": {\"color\": \"red\", \"width\": 6}, \"marker\": {\"color\": \"red\", \"size\": 12}, \"name\": \"HbA1C estim\\u00e9e\", \"x\": [\"2019-02-14 23:00:00\", \"2019-02-15 23:00:00\", \"2019-02-16 23:00:00\", \"2019-02-17 23:00:00\", \"2019-02-18 23:00:00\", \"2019-02-19 23:00:00\", \"2019-02-20 23:00:00\", \"2019-02-21 23:00:00\", \"2019-02-22 23:00:00\", \"2019-02-23 23:00:00\", \"2019-02-24 23:00:00\", \"2019-02-25 23:00:00\", \"2019-02-26 23:00:00\", \"2019-02-27 23:00:00\", \"2019-02-28 23:00:00\", \"2019-03-01 23:00:00\", \"2019-03-02 23:00:00\", \"2019-03-03 23:00:00\", \"2019-03-04 23:00:00\", \"2019-03-05 23:00:00\", \"2019-03-06 23:00:00\", \"2019-03-07 23:00:00\", \"2019-03-08 23:00:00\", \"2019-03-09 23:00:00\", \"2019-03-10 23:00:00\", \"2019-03-11 23:00:00\", \"2019-03-12 23:00:00\", \"2019-03-13 23:00:00\", \"2019-03-14 23:00:00\", \"2019-03-15 23:00:00\"], \"y\": [9.43205574912892, 9.292682926829269, 9.257839721254356, 9.222996515679442, 9.188153310104529, 9.083623693379792, 8.979094076655052, 8.8397212543554, 8.735191637630662, 8.595818815331011, 8.595818815331011, 8.630662020905923, 8.456445993031359, 8.421602787456447, 8.351916376306619, 8.247386759581882, 8.212543554006968, 8.142857142857142, 8.212543554006968, 8.177700348432055, 8.10801393728223, 8.10801393728223, 8.073170731707318, 7.933797909407665, 7.898954703832753, 7.829268292682927, 7.689895470383275, 7.585365853658536, 7.515679442508711, 7.411149825783972], \"yaxis\": \"y2\", \"type\": \"scatter\", \"uid\": \"b38ff96c-4f8a-4562-8538-8ec4b51a5caa\"}], {\"title\": {\"text\": \"Evolution glyc\\u00e9mie moyenne sur 30 jours\"}, \"xaxis\": {\"ticktext\": [\"15 f\\u00e9v\", \"16 f\\u00e9v\", \"17 f\\u00e9v\", \"18 f\\u00e9v\", \"19 f\\u00e9v\", \"20 f\\u00e9v\", \"21 f\\u00e9v\", \"22 f\\u00e9v\", \"23 f\\u00e9v\", \"24 f\\u00e9v\", \"25 f\\u00e9v\", \"26 f\\u00e9v\", \"27 f\\u00e9v\", \"28 f\\u00e9v\", \"1 mars\", \"2 mars\", \"3 mars\", \"4 mars\", \"5 mars\", \"6 mars\", \"7 mars\", \"8 mars\", \"9 mars\", \"10 mars\", \"11 mars\", \"12 mars\", \"13 mars\", \"14 mars\", \"15 mars\", \"16 mars\"], \"tickvals\": [\"2019-02-14 23:00:00\", \"2019-02-15 23:00:00\", \"2019-02-16 23:00:00\", \"2019-02-17 23:00:00\", \"2019-02-18 23:00:00\", \"2019-02-19 23:00:00\", \"2019-02-20 23:00:00\", \"2019-02-21 23:00:00\", \"2019-02-22 23:00:00\", \"2019-02-23 23:00:00\", \"2019-02-24 23:00:00\", \"2019-02-25 23:00:00\", \"2019-02-26 23:00:00\", \"2019-02-27 23:00:00\", \"2019-02-28 23:00:00\", \"2019-03-01 23:00:00\", \"2019-03-02 23:00:00\", \"2019-03-03 23:00:00\", \"2019-03-04 23:00:00\", \"2019-03-05 23:00:00\", \"2019-03-06 23:00:00\", \"2019-03-07 23:00:00\", \"2019-03-08 23:00:00\", \"2019-03-09 23:00:00\", \"2019-03-10 23:00:00\", \"2019-03-11 23:00:00\", \"2019-03-12 23:00:00\", \"2019-03-13 23:00:00\", \"2019-03-14 23:00:00\", \"2019-03-15 23:00:00\"]}, \"yaxis2\": {\"overlaying\": \"y\", \"showgrid\": false, \"side\": \"right\"}}, {\"showLink\": false, \"linkText\": \"Export to plot.ly\", \"plotlyServerURL\": \"https://plot.ly\"}); \n",
       "}\n",
       "});</script><script type=\"text/javascript\">window.addEventListener(\"resize\", function(){if (document.getElementById(\"67a1d43a-f104-449a-80c9-581ba3757c76\")) {window._Plotly.Plots.resize(document.getElementById(\"67a1d43a-f104-449a-80c9-581ba3757c76\"));};})</script>"
      ],
      "text/vnd.plotly.v1+html": [
       "<div id=\"67a1d43a-f104-449a-80c9-581ba3757c76\" style=\"height: 525px; width: 100%;\" class=\"plotly-graph-div\"></div><script type=\"text/javascript\">require([\"plotly\"], function(Plotly) { window.PLOTLYENV=window.PLOTLYENV || {};window.PLOTLYENV.BASE_URL=\"https://plot.ly\";\n",
       "if (document.getElementById(\"67a1d43a-f104-449a-80c9-581ba3757c76\")) {\n",
       "    Plotly.newPlot(\"67a1d43a-f104-449a-80c9-581ba3757c76\", [{\"line\": {\"width\": 12}, \"marker\": {\"size\": 12}, \"name\": \"Glyc\\u00e9mie moyenne\", \"x\": [\"2019-02-14 23:00:00\", \"2019-02-15 23:00:00\", \"2019-02-16 23:00:00\", \"2019-02-17 23:00:00\", \"2019-02-18 23:00:00\", \"2019-02-19 23:00:00\", \"2019-02-20 23:00:00\", \"2019-02-21 23:00:00\", \"2019-02-22 23:00:00\", \"2019-02-23 23:00:00\", \"2019-02-24 23:00:00\", \"2019-02-25 23:00:00\", \"2019-02-26 23:00:00\", \"2019-02-27 23:00:00\", \"2019-02-28 23:00:00\", \"2019-03-01 23:00:00\", \"2019-03-02 23:00:00\", \"2019-03-03 23:00:00\", \"2019-03-04 23:00:00\", \"2019-03-05 23:00:00\", \"2019-03-06 23:00:00\", \"2019-03-07 23:00:00\", \"2019-03-08 23:00:00\", \"2019-03-09 23:00:00\", \"2019-03-10 23:00:00\", \"2019-03-11 23:00:00\", \"2019-03-12 23:00:00\", \"2019-03-13 23:00:00\", \"2019-03-14 23:00:00\", \"2019-03-15 23:00:00\"], \"y\": [224, 220, 219, 218, 217, 214, 211, 207, 204, 200, 200, 201, 196, 195, 193, 190, 189, 187, 189, 188, 186, 186, 185, 181, 180, 178, 174, 171, 169, 166], \"type\": \"scatter\", \"uid\": \"745894a8-30c8-492f-9363-6fa9b113fe5b\"}, {\"line\": {\"color\": \"red\", \"width\": 6}, \"marker\": {\"color\": \"red\", \"size\": 12}, \"name\": \"HbA1C estim\\u00e9e\", \"x\": [\"2019-02-14 23:00:00\", \"2019-02-15 23:00:00\", \"2019-02-16 23:00:00\", \"2019-02-17 23:00:00\", \"2019-02-18 23:00:00\", \"2019-02-19 23:00:00\", \"2019-02-20 23:00:00\", \"2019-02-21 23:00:00\", \"2019-02-22 23:00:00\", \"2019-02-23 23:00:00\", \"2019-02-24 23:00:00\", \"2019-02-25 23:00:00\", \"2019-02-26 23:00:00\", \"2019-02-27 23:00:00\", \"2019-02-28 23:00:00\", \"2019-03-01 23:00:00\", \"2019-03-02 23:00:00\", \"2019-03-03 23:00:00\", \"2019-03-04 23:00:00\", \"2019-03-05 23:00:00\", \"2019-03-06 23:00:00\", \"2019-03-07 23:00:00\", \"2019-03-08 23:00:00\", \"2019-03-09 23:00:00\", \"2019-03-10 23:00:00\", \"2019-03-11 23:00:00\", \"2019-03-12 23:00:00\", \"2019-03-13 23:00:00\", \"2019-03-14 23:00:00\", \"2019-03-15 23:00:00\"], \"y\": [9.43205574912892, 9.292682926829269, 9.257839721254356, 9.222996515679442, 9.188153310104529, 9.083623693379792, 8.979094076655052, 8.8397212543554, 8.735191637630662, 8.595818815331011, 8.595818815331011, 8.630662020905923, 8.456445993031359, 8.421602787456447, 8.351916376306619, 8.247386759581882, 8.212543554006968, 8.142857142857142, 8.212543554006968, 8.177700348432055, 8.10801393728223, 8.10801393728223, 8.073170731707318, 7.933797909407665, 7.898954703832753, 7.829268292682927, 7.689895470383275, 7.585365853658536, 7.515679442508711, 7.411149825783972], \"yaxis\": \"y2\", \"type\": \"scatter\", \"uid\": \"b38ff96c-4f8a-4562-8538-8ec4b51a5caa\"}], {\"title\": {\"text\": \"Evolution glyc\\u00e9mie moyenne sur 30 jours\"}, \"xaxis\": {\"ticktext\": [\"15 f\\u00e9v\", \"16 f\\u00e9v\", \"17 f\\u00e9v\", \"18 f\\u00e9v\", \"19 f\\u00e9v\", \"20 f\\u00e9v\", \"21 f\\u00e9v\", \"22 f\\u00e9v\", \"23 f\\u00e9v\", \"24 f\\u00e9v\", \"25 f\\u00e9v\", \"26 f\\u00e9v\", \"27 f\\u00e9v\", \"28 f\\u00e9v\", \"1 mars\", \"2 mars\", \"3 mars\", \"4 mars\", \"5 mars\", \"6 mars\", \"7 mars\", \"8 mars\", \"9 mars\", \"10 mars\", \"11 mars\", \"12 mars\", \"13 mars\", \"14 mars\", \"15 mars\", \"16 mars\"], \"tickvals\": [\"2019-02-14 23:00:00\", \"2019-02-15 23:00:00\", \"2019-02-16 23:00:00\", \"2019-02-17 23:00:00\", \"2019-02-18 23:00:00\", \"2019-02-19 23:00:00\", \"2019-02-20 23:00:00\", \"2019-02-21 23:00:00\", \"2019-02-22 23:00:00\", \"2019-02-23 23:00:00\", \"2019-02-24 23:00:00\", \"2019-02-25 23:00:00\", \"2019-02-26 23:00:00\", \"2019-02-27 23:00:00\", \"2019-02-28 23:00:00\", \"2019-03-01 23:00:00\", \"2019-03-02 23:00:00\", \"2019-03-03 23:00:00\", \"2019-03-04 23:00:00\", \"2019-03-05 23:00:00\", \"2019-03-06 23:00:00\", \"2019-03-07 23:00:00\", \"2019-03-08 23:00:00\", \"2019-03-09 23:00:00\", \"2019-03-10 23:00:00\", \"2019-03-11 23:00:00\", \"2019-03-12 23:00:00\", \"2019-03-13 23:00:00\", \"2019-03-14 23:00:00\", \"2019-03-15 23:00:00\"]}, \"yaxis2\": {\"overlaying\": \"y\", \"showgrid\": false, \"side\": \"right\"}}, {\"showLink\": false, \"linkText\": \"Export to plot.ly\", \"plotlyServerURL\": \"https://plot.ly\"}); \n",
       "}\n",
       "});</script><script type=\"text/javascript\">window.addEventListener(\"resize\", function(){if (document.getElementById(\"67a1d43a-f104-449a-80c9-581ba3757c76\")) {window._Plotly.Plots.resize(document.getElementById(\"67a1d43a-f104-449a-80c9-581ba3757c76\"));};})</script>"
      ]
     },
     "metadata": {},
     "output_type": "display_data"
    }
   ],
   "source": [
    "labels = [str(date.day)+ ' ' + monthdic[date.month] for date in gc.date]\n",
    "tickvals = gc.date\n",
    "layout = go.Layout(\n",
    "    title='Evolution glycémie moyenne sur 30 jours',\n",
    "    xaxis=go.layout.XAxis(\n",
    "        ticktext=labels,\n",
    "        tickvals=tickvals\n",
    "    ),\n",
    "    yaxis2= dict(\n",
    "        overlaying='y',\n",
    "        side='right',\n",
    "        showgrid=False,\n",
    "    )\n",
    ")\n",
    "data = [\n",
    "    go.Scatter(\n",
    "        x=gc.date, \n",
    "        y=gc.gluc,\n",
    "        name='Glycémie moyenne',\n",
    "        marker=dict(\n",
    "         size=12),\n",
    "        line=dict(\n",
    "        width=12)\n",
    "    ),\n",
    "    go.Scatter(\n",
    "        x=gc.date, \n",
    "        y=gc.hba1c,\n",
    "        name='HbA1C estimée',\n",
    "        yaxis='y2',\n",
    "        marker=dict(\n",
    "         color='red',\n",
    "         size=12),\n",
    "        line=dict(\n",
    "         color='red',    \n",
    "         width=6)\n",
    "    ),\n",
    "        \n",
    "]\n",
    "fig = go.Figure(data, layout)\n",
    "\n",
    "iplot(fig, filename='tickvals-and-ticktext')"
   ]
  },
  {
   "cell_type": "code",
   "execution_count": 2,
   "metadata": {},
   "outputs": [],
   "source": []
  },
  {
   "cell_type": "code",
   "execution_count": null,
   "metadata": {},
   "outputs": [],
   "source": []
  },
  {
   "cell_type": "code",
   "execution_count": null,
   "metadata": {},
   "outputs": [],
   "source": []
  },
  {
   "cell_type": "code",
   "execution_count": null,
   "metadata": {},
   "outputs": [],
   "source": []
  },
  {
   "cell_type": "code",
   "execution_count": null,
   "metadata": {},
   "outputs": [],
   "source": []
  },
  {
   "cell_type": "code",
   "execution_count": null,
   "metadata": {},
   "outputs": [],
   "source": [
    " "
   ]
  },
  {
   "cell_type": "code",
   "execution_count": 8,
   "metadata": {},
   "outputs": [],
   "source": []
  },
  {
   "cell_type": "code",
   "execution_count": null,
   "metadata": {},
   "outputs": [],
   "source": []
  },
  {
   "cell_type": "code",
   "execution_count": 7,
   "metadata": {},
   "outputs": [
    {
     "ename": "NameError",
     "evalue": "name 'monthd' is not defined",
     "output_type": "error",
     "traceback": [
      "\u001b[1;31m---------------------------------------------------------------------------\u001b[0m",
      "\u001b[1;31mNameError\u001b[0m                                 Traceback (most recent call last)",
      "\u001b[1;32m<ipython-input-7-62c8cd0c0b4a>\u001b[0m in \u001b[0;36m<module>\u001b[1;34m()\u001b[0m\n\u001b[1;32m----> 1\u001b[1;33m \u001b[0mlabels\u001b[0m \u001b[1;33m=\u001b[0m \u001b[1;33m[\u001b[0m\u001b[0mstr\u001b[0m\u001b[1;33m(\u001b[0m\u001b[0mdate\u001b[0m\u001b[1;33m.\u001b[0m\u001b[0mday\u001b[0m\u001b[1;33m)\u001b[0m\u001b[1;33m+\u001b[0m \u001b[1;34m' '\u001b[0m \u001b[1;33m+\u001b[0m \u001b[0mmonthd\u001b[0m\u001b[1;33m[\u001b[0m\u001b[0mdate\u001b[0m\u001b[1;33m.\u001b[0m\u001b[0mmonth\u001b[0m\u001b[1;33m]\u001b[0m \u001b[1;32mfor\u001b[0m \u001b[0mdate\u001b[0m \u001b[1;32min\u001b[0m \u001b[0mgc\u001b[0m\u001b[1;33m.\u001b[0m\u001b[0mdate\u001b[0m\u001b[1;33m]\u001b[0m\u001b[1;33m\u001b[0m\u001b[1;33m\u001b[0m\u001b[0m\n\u001b[0m\u001b[0;32m      2\u001b[0m \u001b[0mtickvals\u001b[0m \u001b[1;33m=\u001b[0m \u001b[0mgc\u001b[0m\u001b[1;33m.\u001b[0m\u001b[0mdate\u001b[0m\u001b[1;33m\u001b[0m\u001b[1;33m\u001b[0m\u001b[0m\n\u001b[0;32m      3\u001b[0m layout = go.Layout(\n\u001b[0;32m      4\u001b[0m     \u001b[0mtitle\u001b[0m\u001b[1;33m=\u001b[0m\u001b[1;34m'Evolution glycémie moyenne sur 30 jours'\u001b[0m\u001b[1;33m,\u001b[0m\u001b[1;33m\u001b[0m\u001b[1;33m\u001b[0m\u001b[0m\n\u001b[0;32m      5\u001b[0m     xaxis=go.layout.XAxis(\n",
      "\u001b[1;32m<ipython-input-7-62c8cd0c0b4a>\u001b[0m in \u001b[0;36m<listcomp>\u001b[1;34m(.0)\u001b[0m\n\u001b[1;32m----> 1\u001b[1;33m \u001b[0mlabels\u001b[0m \u001b[1;33m=\u001b[0m \u001b[1;33m[\u001b[0m\u001b[0mstr\u001b[0m\u001b[1;33m(\u001b[0m\u001b[0mdate\u001b[0m\u001b[1;33m.\u001b[0m\u001b[0mday\u001b[0m\u001b[1;33m)\u001b[0m\u001b[1;33m+\u001b[0m \u001b[1;34m' '\u001b[0m \u001b[1;33m+\u001b[0m \u001b[0mmonthd\u001b[0m\u001b[1;33m[\u001b[0m\u001b[0mdate\u001b[0m\u001b[1;33m.\u001b[0m\u001b[0mmonth\u001b[0m\u001b[1;33m]\u001b[0m \u001b[1;32mfor\u001b[0m \u001b[0mdate\u001b[0m \u001b[1;32min\u001b[0m \u001b[0mgc\u001b[0m\u001b[1;33m.\u001b[0m\u001b[0mdate\u001b[0m\u001b[1;33m]\u001b[0m\u001b[1;33m\u001b[0m\u001b[1;33m\u001b[0m\u001b[0m\n\u001b[0m\u001b[0;32m      2\u001b[0m \u001b[0mtickvals\u001b[0m \u001b[1;33m=\u001b[0m \u001b[0mgc\u001b[0m\u001b[1;33m.\u001b[0m\u001b[0mdate\u001b[0m\u001b[1;33m\u001b[0m\u001b[1;33m\u001b[0m\u001b[0m\n\u001b[0;32m      3\u001b[0m layout = go.Layout(\n\u001b[0;32m      4\u001b[0m     \u001b[0mtitle\u001b[0m\u001b[1;33m=\u001b[0m\u001b[1;34m'Evolution glycémie moyenne sur 30 jours'\u001b[0m\u001b[1;33m,\u001b[0m\u001b[1;33m\u001b[0m\u001b[1;33m\u001b[0m\u001b[0m\n\u001b[0;32m      5\u001b[0m     xaxis=go.layout.XAxis(\n",
      "\u001b[1;31mNameError\u001b[0m: name 'monthd' is not defined"
     ]
    }
   ],
   "source": [
    "labels = [str(date.day)+ ' ' + monthd[date.month] for date in gc.date]\n",
    "tickvals = gc.date\n",
    "layout = go.Layout(\n",
    "    title='Evolution glycémie moyenne sur 30 jours',\n",
    "    xaxis=go.layout.XAxis(\n",
    "        ticktext=labels,\n",
    "        tickvals=tickvals\n",
    "    ),\n",
    "    yaxis2= dict(\n",
    "        overlaying='y',\n",
    "        side='right',\n",
    "        showgrid=False,\n",
    "    )\n",
    ")\n",
    "data = [\n",
    "    go.Scatter(\n",
    "        x=gc.date, \n",
    "        y=gc.gluc,\n",
    "        name='Glycémie moyenne',\n",
    "        marker=dict(\n",
    "         size=12),\n",
    "        line=dict(\n",
    "        width=12)\n",
    "    ),\n",
    "    go.Scatter(\n",
    "        x=gc.date, \n",
    "        y=gc.hba1c,\n",
    "        name='HbA1C estimée',\n",
    "        yaxis='y2',\n",
    "        marker=dict(\n",
    "         color='red',\n",
    "         size=12),\n",
    "        line=dict(\n",
    "         color='red',    \n",
    "         width=6)\n",
    "    ),\n",
    "        \n",
    "]\n",
    "fig = go.Figure(data, layout)\n",
    "\n",
    "iplot(fig, filename='tickvals-and-ticktext')"
   ]
  },
  {
   "cell_type": "code",
   "execution_count": 24,
   "metadata": {},
   "outputs": [],
   "source": [
    "hb = (gc.gluc+46.7)/28.7"
   ]
  },
  {
   "cell_type": "code",
   "execution_count": null,
   "metadata": {},
   "outputs": [],
   "source": []
  }
 ],
 "metadata": {
  "kernelspec": {
   "display_name": "Python 3",
   "language": "python",
   "name": "python3"
  },
  "language_info": {
   "codemirror_mode": {
    "name": "ipython",
    "version": 3
   },
   "file_extension": ".py",
   "mimetype": "text/x-python",
   "name": "python",
   "nbconvert_exporter": "python",
   "pygments_lexer": "ipython3",
   "version": "3.7.2"
  }
 },
 "nbformat": 4,
 "nbformat_minor": 2
}
