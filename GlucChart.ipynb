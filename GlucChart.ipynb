{
 "cells": [
  {
   "cell_type": "markdown",
   "metadata": {},
   "source": [
    "# Gluc Chart Demo"
   ]
  },
  {
   "cell_type": "code",
   "execution_count": 1,
   "metadata": {},
   "outputs": [],
   "source": [
    "from main import GlucConverter as GC"
   ]
  },
  {
   "cell_type": "code",
   "execution_count": 2,
   "metadata": {},
   "outputs": [],
   "source": [
    "gc = GC(name='toto', filename='gluc.csv')"
   ]
  },
  {
   "cell_type": "code",
   "execution_count": 3,
   "metadata": {},
   "outputs": [],
   "source": [
    "gc.getgluc()"
   ]
  },
  {
   "cell_type": "code",
   "execution_count": 4,
   "metadata": {},
   "outputs": [
    {
     "data": {
      "text/plain": [
       "array([224, 220, 219, 218, 217, 214, 211, 207, 204, 200, 200, 201, 196,\n",
       "       195, 193, 190], dtype=int64)"
      ]
     },
     "execution_count": 4,
     "metadata": {},
     "output_type": "execute_result"
    }
   ],
   "source": [
    "gc.gluc"
   ]
  },
  {
   "cell_type": "code",
   "execution_count": 5,
   "metadata": {},
   "outputs": [],
   "source": [
    "gc.getdate()"
   ]
  },
  {
   "cell_type": "code",
   "execution_count": 6,
   "metadata": {},
   "outputs": [
    {
     "data": {
      "text/plain": [
       "[datetime.datetime(2019, 2, 15, 0, 0),\n",
       " datetime.datetime(2019, 2, 16, 0, 0),\n",
       " datetime.datetime(2019, 2, 17, 0, 0),\n",
       " datetime.datetime(2019, 2, 18, 0, 0),\n",
       " datetime.datetime(2019, 2, 19, 0, 0),\n",
       " datetime.datetime(2019, 2, 20, 0, 0),\n",
       " datetime.datetime(2019, 2, 21, 0, 0),\n",
       " datetime.datetime(2019, 2, 22, 0, 0),\n",
       " datetime.datetime(2019, 2, 23, 0, 0),\n",
       " datetime.datetime(2019, 2, 24, 0, 0),\n",
       " datetime.datetime(2019, 2, 25, 0, 0),\n",
       " datetime.datetime(2019, 2, 26, 0, 0),\n",
       " datetime.datetime(2019, 2, 27, 0, 0),\n",
       " datetime.datetime(2019, 2, 28, 0, 0),\n",
       " datetime.datetime(2019, 3, 1, 0, 0),\n",
       " datetime.datetime(2019, 3, 2, 0, 0)]"
      ]
     },
     "execution_count": 6,
     "metadata": {},
     "output_type": "execute_result"
    }
   ],
   "source": [
    "gc.date"
   ]
  },
  {
   "cell_type": "code",
   "execution_count": 7,
   "metadata": {},
   "outputs": [
    {
     "data": {
      "text/html": [
       "<script type=\"text/javascript\">window.PlotlyConfig = {MathJaxConfig: 'local'};</script><script type=\"text/javascript\">if (window.MathJax) {MathJax.Hub.Config({SVG: {font: \"STIX-Web\"}});}</script><script>requirejs.config({paths: { 'plotly': ['https://cdn.plot.ly/plotly-latest.min']},});if(!window._Plotly) {require(['plotly'],function(plotly) {window._Plotly=plotly;});}</script>"
      ],
      "text/vnd.plotly.v1+html": [
       "<script type=\"text/javascript\">window.PlotlyConfig = {MathJaxConfig: 'local'};</script><script type=\"text/javascript\">if (window.MathJax) {MathJax.Hub.Config({SVG: {font: \"STIX-Web\"}});}</script><script>requirejs.config({paths: { 'plotly': ['https://cdn.plot.ly/plotly-latest.min']},});if(!window._Plotly) {require(['plotly'],function(plotly) {window._Plotly=plotly;});}</script>"
      ]
     },
     "metadata": {},
     "output_type": "display_data"
    }
   ],
   "source": [
    "from plotly.offline import download_plotlyjs, init_notebook_mode, plot, iplot\n",
    "from plotly import graph_objs as go\n",
    "init_notebook_mode(True)"
   ]
  },
  {
   "cell_type": "code",
   "execution_count": 8,
   "metadata": {},
   "outputs": [
    {
     "data": {
      "application/vnd.plotly.v1+json": {
       "config": {
        "linkText": "Export to plot.ly",
        "plotlyServerURL": "https://plot.ly",
        "showLink": false
       },
       "data": [
        {
         "type": "scatter",
         "uid": "59bd47dc-d782-4c85-9bcc-6ad6582edfb9",
         "x": [
          "2019-02-14 23:00:00",
          "2019-02-15 23:00:00",
          "2019-02-16 23:00:00",
          "2019-02-17 23:00:00",
          "2019-02-18 23:00:00",
          "2019-02-19 23:00:00",
          "2019-02-20 23:00:00",
          "2019-02-21 23:00:00",
          "2019-02-22 23:00:00",
          "2019-02-23 23:00:00",
          "2019-02-24 23:00:00",
          "2019-02-25 23:00:00",
          "2019-02-26 23:00:00",
          "2019-02-27 23:00:00",
          "2019-02-28 23:00:00",
          "2019-03-01 23:00:00"
         ],
         "y": [
          224,
          220,
          219,
          218,
          217,
          214,
          211,
          207,
          204,
          200,
          200,
          201,
          196,
          195,
          193,
          190
         ]
        }
       ],
       "layout": {}
      },
      "text/html": [
       "<div id=\"b6a5655c-1fc9-49c8-8f8e-12e3f2a3e517\" style=\"height: 525px; width: 100%;\" class=\"plotly-graph-div\"></div><script type=\"text/javascript\">require([\"plotly\"], function(Plotly) { window.PLOTLYENV=window.PLOTLYENV || {};window.PLOTLYENV.BASE_URL=\"https://plot.ly\";Plotly.newPlot(\"b6a5655c-1fc9-49c8-8f8e-12e3f2a3e517\", [{\"x\": [\"2019-02-14 23:00:00\", \"2019-02-15 23:00:00\", \"2019-02-16 23:00:00\", \"2019-02-17 23:00:00\", \"2019-02-18 23:00:00\", \"2019-02-19 23:00:00\", \"2019-02-20 23:00:00\", \"2019-02-21 23:00:00\", \"2019-02-22 23:00:00\", \"2019-02-23 23:00:00\", \"2019-02-24 23:00:00\", \"2019-02-25 23:00:00\", \"2019-02-26 23:00:00\", \"2019-02-27 23:00:00\", \"2019-02-28 23:00:00\", \"2019-03-01 23:00:00\"], \"y\": [224, 220, 219, 218, 217, 214, 211, 207, 204, 200, 200, 201, 196, 195, 193, 190], \"type\": \"scatter\", \"uid\": \"874c6b58-dcc4-443a-b650-e051cbe6745c\"}], {}, {\"showLink\": false, \"linkText\": \"Export to plot.ly\", \"plotlyServerURL\": \"https://plot.ly\"})});</script><script type=\"text/javascript\">window.addEventListener(\"resize\", function(){window._Plotly.Plots.resize(document.getElementById(\"b6a5655c-1fc9-49c8-8f8e-12e3f2a3e517\"));});</script>"
      ],
      "text/vnd.plotly.v1+html": [
       "<div id=\"b6a5655c-1fc9-49c8-8f8e-12e3f2a3e517\" style=\"height: 525px; width: 100%;\" class=\"plotly-graph-div\"></div><script type=\"text/javascript\">require([\"plotly\"], function(Plotly) { window.PLOTLYENV=window.PLOTLYENV || {};window.PLOTLYENV.BASE_URL=\"https://plot.ly\";Plotly.newPlot(\"b6a5655c-1fc9-49c8-8f8e-12e3f2a3e517\", [{\"x\": [\"2019-02-14 23:00:00\", \"2019-02-15 23:00:00\", \"2019-02-16 23:00:00\", \"2019-02-17 23:00:00\", \"2019-02-18 23:00:00\", \"2019-02-19 23:00:00\", \"2019-02-20 23:00:00\", \"2019-02-21 23:00:00\", \"2019-02-22 23:00:00\", \"2019-02-23 23:00:00\", \"2019-02-24 23:00:00\", \"2019-02-25 23:00:00\", \"2019-02-26 23:00:00\", \"2019-02-27 23:00:00\", \"2019-02-28 23:00:00\", \"2019-03-01 23:00:00\"], \"y\": [224, 220, 219, 218, 217, 214, 211, 207, 204, 200, 200, 201, 196, 195, 193, 190], \"type\": \"scatter\", \"uid\": \"874c6b58-dcc4-443a-b650-e051cbe6745c\"}], {}, {\"showLink\": false, \"linkText\": \"Export to plot.ly\", \"plotlyServerURL\": \"https://plot.ly\"})});</script><script type=\"text/javascript\">window.addEventListener(\"resize\", function(){window._Plotly.Plots.resize(document.getElementById(\"b6a5655c-1fc9-49c8-8f8e-12e3f2a3e517\"));});</script>"
      ]
     },
     "metadata": {},
     "output_type": "display_data"
    }
   ],
   "source": [
    "data = [go.Scatter(x=gc.date, y=gc.gluc)]\n",
    "labels = ['End of Q1', 'End of Q2', 'End of Q3', 'End of Q4']\n",
    "tickvals = ['2016-04-01', '2016-07-01', '2016-10-01', apple_df_2016.Date.max()]\n",
    "\n",
    "iplot(data)"
   ]
  },
  {
   "cell_type": "code",
   "execution_count": null,
   "metadata": {},
   "outputs": [],
   "source": [
    "from dateutil.parser import parse"
   ]
  },
  {
   "cell_type": "code",
   "execution_count": null,
   "metadata": {},
   "outputs": [],
   "source": [
    "import pandas as pd\n",
    "df=pd.read_csv('gluc.csv')\n",
    "date = df['Date'].values"
   ]
  },
  {
   "cell_type": "code",
   "execution_count": null,
   "metadata": {},
   "outputs": [],
   "source": [
    "[parse(dat, dayfirst=True) for dat in date]"
   ]
  },
  {
   "cell_type": "code",
   "execution_count": 11,
   "metadata": {},
   "outputs": [
    {
     "data": {
      "text/plain": [
       "2"
      ]
     },
     "execution_count": 11,
     "metadata": {},
     "output_type": "execute_result"
    }
   ],
   "source": [
    "gc.date[0].month "
   ]
  },
  {
   "cell_type": "code",
   "execution_count": 12,
   "metadata": {},
   "outputs": [],
   "source": [
    "monthd = dict({2:'fev',3:'mars'})"
   ]
  },
  {
   "cell_type": "code",
   "execution_count": 17,
   "metadata": {},
   "outputs": [],
   "source": [
    "labels = [str(date.day)+ ' ' + monthd[date.month] for date in gc.date]\n",
    "tickvals = gc.date"
   ]
  },
  {
   "cell_type": "code",
   "execution_count": 27,
   "metadata": {},
   "outputs": [
    {
     "data": {
      "application/vnd.plotly.v1+json": {
       "config": {
        "linkText": "Export to plot.ly",
        "plotlyServerURL": "https://plot.ly",
        "showLink": false
       },
       "data": [
        {
         "line": {
          "width": 6
         },
         "marker": {
          "size": 12
         },
         "name": "Glycémie moyenne",
         "type": "scatter",
         "uid": "48c24783-8cb8-4fe1-abe5-176bcaa5d975",
         "x": [
          "2019-02-14 23:00:00",
          "2019-02-15 23:00:00",
          "2019-02-16 23:00:00",
          "2019-02-17 23:00:00",
          "2019-02-18 23:00:00",
          "2019-02-19 23:00:00",
          "2019-02-20 23:00:00",
          "2019-02-21 23:00:00",
          "2019-02-22 23:00:00",
          "2019-02-23 23:00:00",
          "2019-02-24 23:00:00",
          "2019-02-25 23:00:00",
          "2019-02-26 23:00:00",
          "2019-02-27 23:00:00",
          "2019-02-28 23:00:00",
          "2019-03-01 23:00:00"
         ],
         "y": [
          224,
          220,
          219,
          218,
          217,
          214,
          211,
          207,
          204,
          200,
          200,
          201,
          196,
          195,
          193,
          190
         ]
        },
        {
         "line": {
          "color": "red",
          "width": 6
         },
         "marker": {
          "color": "red",
          "size": 12
         },
         "name": "HbA1C estimée",
         "type": "scatter",
         "uid": "62f18e16-9848-453e-83ba-cbec496b1699",
         "x": [
          "2019-02-14 23:00:00",
          "2019-02-15 23:00:00",
          "2019-02-16 23:00:00",
          "2019-02-17 23:00:00",
          "2019-02-18 23:00:00",
          "2019-02-19 23:00:00",
          "2019-02-20 23:00:00",
          "2019-02-21 23:00:00",
          "2019-02-22 23:00:00",
          "2019-02-23 23:00:00",
          "2019-02-24 23:00:00",
          "2019-02-25 23:00:00",
          "2019-02-26 23:00:00",
          "2019-02-27 23:00:00",
          "2019-02-28 23:00:00",
          "2019-03-01 23:00:00"
         ],
         "y": [
          9.432055749128919,
          9.292682926829269,
          9.257839721254355,
          9.222996515679442,
          9.18815331010453,
          9.08362369337979,
          8.979094076655052,
          8.8397212543554,
          8.735191637630662,
          8.595818815331011,
          8.595818815331011,
          8.630662020905923,
          8.456445993031359,
          8.421602787456445,
          8.35191637630662,
          8.24738675958188
         ],
         "yaxis": "y2"
        }
       ],
       "layout": {
        "title": {
         "text": "Evolution glycémie moyenne sur 30 jours"
        },
        "xaxis": {
         "ticktext": [
          "15 fev",
          "16 fev",
          "17 fev",
          "18 fev",
          "19 fev",
          "20 fev",
          "21 fev",
          "22 fev",
          "23 fev",
          "24 fev",
          "25 fev",
          "26 fev",
          "27 fev",
          "28 fev",
          "1 mars",
          "2 mars"
         ],
         "tickvals": [
          "2019-02-14 23:00:00",
          "2019-02-15 23:00:00",
          "2019-02-16 23:00:00",
          "2019-02-17 23:00:00",
          "2019-02-18 23:00:00",
          "2019-02-19 23:00:00",
          "2019-02-20 23:00:00",
          "2019-02-21 23:00:00",
          "2019-02-22 23:00:00",
          "2019-02-23 23:00:00",
          "2019-02-24 23:00:00",
          "2019-02-25 23:00:00",
          "2019-02-26 23:00:00",
          "2019-02-27 23:00:00",
          "2019-02-28 23:00:00",
          "2019-03-01 23:00:00"
         ]
        },
        "yaxis2": {
         "overlaying": "y",
         "showgrid": false,
         "side": "right"
        }
       }
      },
      "text/html": [
       "<div id=\"3453c5b7-bd5a-44b2-b868-505971e17296\" style=\"height: 525px; width: 100%;\" class=\"plotly-graph-div\"></div><script type=\"text/javascript\">require([\"plotly\"], function(Plotly) { window.PLOTLYENV=window.PLOTLYENV || {};window.PLOTLYENV.BASE_URL=\"https://plot.ly\";Plotly.newPlot(\"3453c5b7-bd5a-44b2-b868-505971e17296\", [{\"line\": {\"width\": 6}, \"marker\": {\"size\": 12}, \"name\": \"Glyc\\u00e9mie moyenne\", \"x\": [\"2019-02-14 23:00:00\", \"2019-02-15 23:00:00\", \"2019-02-16 23:00:00\", \"2019-02-17 23:00:00\", \"2019-02-18 23:00:00\", \"2019-02-19 23:00:00\", \"2019-02-20 23:00:00\", \"2019-02-21 23:00:00\", \"2019-02-22 23:00:00\", \"2019-02-23 23:00:00\", \"2019-02-24 23:00:00\", \"2019-02-25 23:00:00\", \"2019-02-26 23:00:00\", \"2019-02-27 23:00:00\", \"2019-02-28 23:00:00\", \"2019-03-01 23:00:00\"], \"y\": [224, 220, 219, 218, 217, 214, 211, 207, 204, 200, 200, 201, 196, 195, 193, 190], \"type\": \"scatter\", \"uid\": \"48c24783-8cb8-4fe1-abe5-176bcaa5d975\"}, {\"line\": {\"color\": \"red\", \"width\": 6}, \"marker\": {\"color\": \"red\", \"size\": 12}, \"name\": \"HbA1C estim\\u00e9e\", \"x\": [\"2019-02-14 23:00:00\", \"2019-02-15 23:00:00\", \"2019-02-16 23:00:00\", \"2019-02-17 23:00:00\", \"2019-02-18 23:00:00\", \"2019-02-19 23:00:00\", \"2019-02-20 23:00:00\", \"2019-02-21 23:00:00\", \"2019-02-22 23:00:00\", \"2019-02-23 23:00:00\", \"2019-02-24 23:00:00\", \"2019-02-25 23:00:00\", \"2019-02-26 23:00:00\", \"2019-02-27 23:00:00\", \"2019-02-28 23:00:00\", \"2019-03-01 23:00:00\"], \"y\": [9.432055749128919, 9.292682926829269, 9.257839721254355, 9.222996515679442, 9.18815331010453, 9.08362369337979, 8.979094076655052, 8.8397212543554, 8.735191637630662, 8.595818815331011, 8.595818815331011, 8.630662020905923, 8.456445993031359, 8.421602787456445, 8.35191637630662, 8.24738675958188], \"yaxis\": \"y2\", \"type\": \"scatter\", \"uid\": \"62f18e16-9848-453e-83ba-cbec496b1699\"}], {\"title\": {\"text\": \"Evolution glyc\\u00e9mie moyenne sur 30 jours\"}, \"xaxis\": {\"ticktext\": [\"15 fev\", \"16 fev\", \"17 fev\", \"18 fev\", \"19 fev\", \"20 fev\", \"21 fev\", \"22 fev\", \"23 fev\", \"24 fev\", \"25 fev\", \"26 fev\", \"27 fev\", \"28 fev\", \"1 mars\", \"2 mars\"], \"tickvals\": [\"2019-02-14 23:00:00\", \"2019-02-15 23:00:00\", \"2019-02-16 23:00:00\", \"2019-02-17 23:00:00\", \"2019-02-18 23:00:00\", \"2019-02-19 23:00:00\", \"2019-02-20 23:00:00\", \"2019-02-21 23:00:00\", \"2019-02-22 23:00:00\", \"2019-02-23 23:00:00\", \"2019-02-24 23:00:00\", \"2019-02-25 23:00:00\", \"2019-02-26 23:00:00\", \"2019-02-27 23:00:00\", \"2019-02-28 23:00:00\", \"2019-03-01 23:00:00\"]}, \"yaxis2\": {\"overlaying\": \"y\", \"showgrid\": false, \"side\": \"right\"}}, {\"showLink\": false, \"linkText\": \"Export to plot.ly\", \"plotlyServerURL\": \"https://plot.ly\"})});</script><script type=\"text/javascript\">window.addEventListener(\"resize\", function(){window._Plotly.Plots.resize(document.getElementById(\"3453c5b7-bd5a-44b2-b868-505971e17296\"));});</script>"
      ],
      "text/vnd.plotly.v1+html": [
       "<div id=\"3453c5b7-bd5a-44b2-b868-505971e17296\" style=\"height: 525px; width: 100%;\" class=\"plotly-graph-div\"></div><script type=\"text/javascript\">require([\"plotly\"], function(Plotly) { window.PLOTLYENV=window.PLOTLYENV || {};window.PLOTLYENV.BASE_URL=\"https://plot.ly\";Plotly.newPlot(\"3453c5b7-bd5a-44b2-b868-505971e17296\", [{\"line\": {\"width\": 6}, \"marker\": {\"size\": 12}, \"name\": \"Glyc\\u00e9mie moyenne\", \"x\": [\"2019-02-14 23:00:00\", \"2019-02-15 23:00:00\", \"2019-02-16 23:00:00\", \"2019-02-17 23:00:00\", \"2019-02-18 23:00:00\", \"2019-02-19 23:00:00\", \"2019-02-20 23:00:00\", \"2019-02-21 23:00:00\", \"2019-02-22 23:00:00\", \"2019-02-23 23:00:00\", \"2019-02-24 23:00:00\", \"2019-02-25 23:00:00\", \"2019-02-26 23:00:00\", \"2019-02-27 23:00:00\", \"2019-02-28 23:00:00\", \"2019-03-01 23:00:00\"], \"y\": [224, 220, 219, 218, 217, 214, 211, 207, 204, 200, 200, 201, 196, 195, 193, 190], \"type\": \"scatter\", \"uid\": \"48c24783-8cb8-4fe1-abe5-176bcaa5d975\"}, {\"line\": {\"color\": \"red\", \"width\": 6}, \"marker\": {\"color\": \"red\", \"size\": 12}, \"name\": \"HbA1C estim\\u00e9e\", \"x\": [\"2019-02-14 23:00:00\", \"2019-02-15 23:00:00\", \"2019-02-16 23:00:00\", \"2019-02-17 23:00:00\", \"2019-02-18 23:00:00\", \"2019-02-19 23:00:00\", \"2019-02-20 23:00:00\", \"2019-02-21 23:00:00\", \"2019-02-22 23:00:00\", \"2019-02-23 23:00:00\", \"2019-02-24 23:00:00\", \"2019-02-25 23:00:00\", \"2019-02-26 23:00:00\", \"2019-02-27 23:00:00\", \"2019-02-28 23:00:00\", \"2019-03-01 23:00:00\"], \"y\": [9.432055749128919, 9.292682926829269, 9.257839721254355, 9.222996515679442, 9.18815331010453, 9.08362369337979, 8.979094076655052, 8.8397212543554, 8.735191637630662, 8.595818815331011, 8.595818815331011, 8.630662020905923, 8.456445993031359, 8.421602787456445, 8.35191637630662, 8.24738675958188], \"yaxis\": \"y2\", \"type\": \"scatter\", \"uid\": \"62f18e16-9848-453e-83ba-cbec496b1699\"}], {\"title\": {\"text\": \"Evolution glyc\\u00e9mie moyenne sur 30 jours\"}, \"xaxis\": {\"ticktext\": [\"15 fev\", \"16 fev\", \"17 fev\", \"18 fev\", \"19 fev\", \"20 fev\", \"21 fev\", \"22 fev\", \"23 fev\", \"24 fev\", \"25 fev\", \"26 fev\", \"27 fev\", \"28 fev\", \"1 mars\", \"2 mars\"], \"tickvals\": [\"2019-02-14 23:00:00\", \"2019-02-15 23:00:00\", \"2019-02-16 23:00:00\", \"2019-02-17 23:00:00\", \"2019-02-18 23:00:00\", \"2019-02-19 23:00:00\", \"2019-02-20 23:00:00\", \"2019-02-21 23:00:00\", \"2019-02-22 23:00:00\", \"2019-02-23 23:00:00\", \"2019-02-24 23:00:00\", \"2019-02-25 23:00:00\", \"2019-02-26 23:00:00\", \"2019-02-27 23:00:00\", \"2019-02-28 23:00:00\", \"2019-03-01 23:00:00\"]}, \"yaxis2\": {\"overlaying\": \"y\", \"showgrid\": false, \"side\": \"right\"}}, {\"showLink\": false, \"linkText\": \"Export to plot.ly\", \"plotlyServerURL\": \"https://plot.ly\"})});</script><script type=\"text/javascript\">window.addEventListener(\"resize\", function(){window._Plotly.Plots.resize(document.getElementById(\"3453c5b7-bd5a-44b2-b868-505971e17296\"));});</script>"
      ]
     },
     "metadata": {},
     "output_type": "display_data"
    }
   ],
   "source": [
    "labels = [str(date.day)+ ' ' + monthd[date.month] for date in gc.date]\n",
    "tickvals = gc.date\n",
    "layout = go.Layout(\n",
    "    title='Evolution glycémie moyenne sur 30 jours',\n",
    "    xaxis=go.layout.XAxis(\n",
    "        ticktext=labels,\n",
    "        tickvals=tickvals\n",
    "    ),\n",
    "    yaxis2= dict(\n",
    "        overlaying='y',\n",
    "        side='right',\n",
    "        showgrid=False,\n",
    "    )\n",
    ")\n",
    "data = [\n",
    "    go.Scatter(\n",
    "        x=gc.date, \n",
    "        y=gc.gluc,\n",
    "        name='Glycémie moyenne',\n",
    "        marker=dict(\n",
    "         size=12),\n",
    "        line=dict(\n",
    "        width=6)\n",
    "    ),\n",
    "    go.Scatter(\n",
    "        x=gc.date, \n",
    "        y=hb,\n",
    "        name='HbA1C estimée',\n",
    "        yaxis='y2',\n",
    "        marker=dict(\n",
    "         color='red',\n",
    "         size=12),\n",
    "        line=dict(\n",
    "         color='red',    \n",
    "         width=6)\n",
    "    ),\n",
    "        \n",
    "]\n",
    "fig = go.Figure(data, layout)\n",
    "\n",
    "iplot(fig, filename='tickvals-and-ticktext')"
   ]
  },
  {
   "cell_type": "code",
   "execution_count": 24,
   "metadata": {},
   "outputs": [],
   "source": [
    "hb = (gc.gluc+46.7)/28.7"
   ]
  },
  {
   "cell_type": "code",
   "execution_count": null,
   "metadata": {},
   "outputs": [],
   "source": []
  }
 ],
 "metadata": {
  "kernelspec": {
   "display_name": "Python 3",
   "language": "python",
   "name": "python3"
  },
  "language_info": {
   "codemirror_mode": {
    "name": "ipython",
    "version": 3
   },
   "file_extension": ".py",
   "mimetype": "text/x-python",
   "name": "python",
   "nbconvert_exporter": "python",
   "pygments_lexer": "ipython3",
   "version": "3.7.2"
  }
 },
 "nbformat": 4,
 "nbformat_minor": 2
}
